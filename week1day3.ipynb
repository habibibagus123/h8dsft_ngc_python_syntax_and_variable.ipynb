{
 "cells": [
  {
   "cell_type": "markdown",
   "metadata": {},
   "source": [
    "Nama: Habibi Bagus Suliano\n",
    "\n",
    "Batch : 009\n",
    "\n",
    "Tugas non grade challange week 1 day 3"
   ]
  },
  {
   "cell_type": "code",
   "execution_count": 8,
   "metadata": {},
   "outputs": [
    {
     "name": "stdout",
     "output_type": "stream",
     "text": [
      "hello world\n",
      "2\n"
     ]
    }
   ],
   "source": [
    "def callsentence(sentence):\n",
    "    words = sentence.split()\n",
    "    numword = len(words)\n",
    "    return sentence,numword\n",
    "input_word = input('enter sentence')\n",
    "result_word, result_numword = callsentence(input_word)\n",
    "\n",
    "print(result_word)\n",
    "print(result_numword)"
   ]
  },
  {
   "cell_type": "code",
   "execution_count": 10,
   "metadata": {},
   "outputs": [
    {
     "name": "stdout",
     "output_type": "stream",
     "text": [
      "[5, 10, 15, 20]\n"
     ]
    }
   ],
   "source": [
    "# TASK 2\n",
    "\n",
    "def make_multiple(start, end, multiple):\n",
    "    multiples_list = []\n",
    "\n",
    "    # # loop for add the multiple\n",
    "    for num in range(start, end + 1):\n",
    "        if num % multiple == 0:\n",
    "            multiples_list.append(num)\n",
    "    return multiples_list\n",
    "\n",
    "# input range\n",
    "start = int(input(\"Enter the start of the range: \"))\n",
    "end = int(input(\"Enter the end of the range: \"))\n",
    "\n",
    "# # input number for multiple\n",
    "multiple = int(input(\"Enter the number to find multiples of: \"))\n",
    "\n",
    "result = make_multiple(start, end, multiple)\n",
    "# # Print the list of multiples\n",
    "print(result)"
   ]
  },
  {
   "cell_type": "code",
   "execution_count": 15,
   "metadata": {},
   "outputs": [
    {
     "name": "stdout",
     "output_type": "stream",
     "text": [
      "The GPA equivalent of D is 2.0\n"
     ]
    }
   ],
   "source": [
    "# TASK 3\n",
    "def grade_student(grade):\n",
    "    grade = student_grade.upper()\n",
    "\n",
    "    # GPA scale \n",
    "    gpa_scale = {    \n",
    "        'A': 4.0,    \n",
    "        'B': 3.0,    \n",
    "        'C': 2.5,    \n",
    "        'D': 2.0,\n",
    "        'E': 1.5,\n",
    "        'F': 1.0\n",
    "    }\n",
    "    \n",
    "    gpa = gpa_scale.get(grade, 0.0)\n",
    "    return gpa\n",
    "\n",
    "\n",
    "# # input student letter grade\n",
    "student_grade = input(\"enter the letter grade\")\n",
    "gpa = grade_student(student_grade)\n",
    "\n",
    "\n",
    "# # Print the GPA\n",
    "print(f\"The GPA equivalent of {student_grade} is {gpa}\")\n"
   ]
  },
  {
   "cell_type": "code",
   "execution_count": null,
   "metadata": {},
   "outputs": [],
   "source": []
  }
 ],
 "metadata": {
  "kernelspec": {
   "display_name": "jalan1",
   "language": "python",
   "name": "python3"
  },
  "language_info": {
   "codemirror_mode": {
    "name": "ipython",
    "version": 3
   },
   "file_extension": ".py",
   "mimetype": "text/x-python",
   "name": "python",
   "nbconvert_exporter": "python",
   "pygments_lexer": "ipython3",
   "version": "3.11.5"
  },
  "orig_nbformat": 4
 },
 "nbformat": 4,
 "nbformat_minor": 2
}
